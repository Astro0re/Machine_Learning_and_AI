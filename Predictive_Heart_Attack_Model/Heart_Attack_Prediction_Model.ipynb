{
 "cells": [
  {
   "cell_type": "markdown",
   "id": "58ade667",
   "metadata": {},
   "source": [
    "# Heart Attack Prediction Model \n",
    "This model is based on quantitative and qualitative data of the diffrent patients, from common measured health parameters like Blood Preasure, Cholerterol levels, Heart rate etc, to lifestyle choices such as Excercise rate, Alcohol consumption and so on.  "
   ]
  },
  {
   "cell_type": "markdown",
   "id": "5e40d000",
   "metadata": {},
   "source": []
  },
  {
   "cell_type": "code",
   "execution_count": null,
   "id": "0faba334",
   "metadata": {},
   "outputs": [],
   "source": [
    "import statistics\n",
    "from statistics import linear_regression\n",
    "import numpy as nu\n",
    "import pandas as pd\n",
    "import matplotlib.pyplot as plt\n",
    "import sklearn\n",
    "from sklearn.neighbors import KNeighborsRegressor\n",
    "from sklearn.linear_model import LinearRegression"
   ]
  },
  {
   "cell_type": "code",
   "execution_count": 2,
   "id": "ff2d1d60-e7df-47d6-b51d-2d7e234e80eb",
   "metadata": {},
   "outputs": [
    {
     "name": "stdout",
     "output_type": "stream",
     "text": [
      "<class 'pandas.core.frame.DataFrame'>\n",
      "RangeIndex: 50000 entries, 0 to 49999\n",
      "Data columns (total 30 columns):\n",
      " #   Column                 Non-Null Count  Dtype  \n",
      "---  ------                 --------------  -----  \n",
      " 0   ID                     50000 non-null  int64  \n",
      " 1   Age                    50000 non-null  int64  \n",
      " 2   Gender                 50000 non-null  object \n",
      " 3   Region                 50000 non-null  object \n",
      " 4   Blood_Pressure         50000 non-null  float64\n",
      " 5   Cholesterol            50000 non-null  float64\n",
      " 6   BMI                    50000 non-null  float64\n",
      " 7   Heart_Rate             50000 non-null  int64  \n",
      " 8   Exercise_Level         50000 non-null  object \n",
      " 9   Smoking                50000 non-null  bool   \n",
      " 10  Alcohol_Consumption    24976 non-null  object \n",
      " 11  Diabetes               50000 non-null  bool   \n",
      " 12  Family_History         50000 non-null  bool   \n",
      " 13  Stress_Level           50000 non-null  int64  \n",
      " 14  Heart_Attack           50000 non-null  bool   \n",
      " 15  Angina                 50000 non-null  bool   \n",
      " 16  Heart_Disease_History  50000 non-null  bool   \n",
      " 17  Diet                   50000 non-null  object \n",
      " 18  Sleep_Hours            50000 non-null  float64\n",
      " 19  Occupation             50000 non-null  object \n",
      " 20  Income_Level           50000 non-null  object \n",
      " 21  Physical_Activity      50000 non-null  object \n",
      " 22  Education_Level        50000 non-null  object \n",
      " 23  Marital_Status         50000 non-null  object \n",
      " 24  Urban_Rural            50000 non-null  object \n",
      " 25  Medication             50000 non-null  bool   \n",
      " 26  Health_Awareness       50000 non-null  int64  \n",
      " 27  Daily_Water_Intake     50000 non-null  float64\n",
      " 28  Mental_Health          50000 non-null  int64  \n",
      " 29  Obesity                50000 non-null  bool   \n",
      "dtypes: bool(8), float64(5), int64(6), object(11)\n",
      "memory usage: 8.8+ MB\n",
      "None\n",
      "   ID  Age  Gender Region  Blood_Pressure  Cholesterol   BMI  Heart_Rate  \\\n",
      "0   1   50    Male  Rural           110.0        196.5  15.9          76   \n",
      "1   2   40  Female  Urban           138.8        157.5  27.1          82   \n",
      "2   3   26    Male  Rural           116.0        210.1  27.2          71   \n",
      "3   4   54  Female  Rural           133.5        170.5  26.0          74   \n",
      "4   5   19  Female  Urban           108.0        224.5  27.5          67   \n",
      "\n",
      "  Exercise_Level  Smoking  ... Income_Level  Physical_Activity  \\\n",
      "0           High    False  ...          Low                Low   \n",
      "1       Moderate    False  ...          Low           Moderate   \n",
      "2       Moderate    False  ...       Middle               High   \n",
      "3       Moderate     True  ...       Middle           Moderate   \n",
      "4            Low    False  ...       Middle                Low   \n",
      "\n",
      "   Education_Level  Marital_Status  Urban_Rural  Medication  Health_Awareness  \\\n",
      "0          Primary         Married        Rural       False                 5   \n",
      "1           Higher         Married        Urban       False                 1   \n",
      "2          Primary         Married        Urban       False                 4   \n",
      "3           Higher         Married        Urban       False                 2   \n",
      "4           Higher         Widowed        Urban       False                 4   \n",
      "\n",
      "  Daily_Water_Intake  Mental_Health Obesity  \n",
      "0                2.3              5   False  \n",
      "1                5.0              4   False  \n",
      "2                2.4              8   False  \n",
      "3                2.7              6    True  \n",
      "4                3.5              4    True  \n",
      "\n",
      "[5 rows x 30 columns]\n",
      "(50000, 30)\n"
     ]
    }
   ],
   "source": [
    "Heart_Data =pd.read_csv ( r\"C:\\Users\\USER\\Documents\\VSC\\Git_\\AI\\Predictive_Heart_Attack_Model\\heart_attack_russia.csv\" )\n",
    "print(Heart_Data.info())\n",
    "print(Heart_Data.head())\n",
    "print(Heart_Data.shape)"
   ]
  },
  {
   "cell_type": "code",
   "execution_count": 3,
   "id": "98ccb595-3a6a-45fd-90f0-9dec98e18f98",
   "metadata": {},
   "outputs": [
    {
     "name": "stdout",
     "output_type": "stream",
     "text": [
      "          ID  Age  Gender    Region  Blood_Pressure  Cholesterol   BMI  \\\n",
      "0          1   50    Male     Rural           110.0        196.5  15.9   \n",
      "1          2   40  Female     Urban           138.8        157.5  27.1   \n",
      "2          3   26    Male     Rural           116.0        210.1  27.2   \n",
      "3          4   54  Female     Rural           133.5        170.5  26.0   \n",
      "4          5   19  Female     Urban           108.0        224.5  27.5   \n",
      "...      ...  ...     ...       ...             ...          ...   ...   \n",
      "49995  49996   56   Other     Rural            87.7        256.8  25.3   \n",
      "49996  49997   16    Male     Rural           125.2        102.9  25.1   \n",
      "49997  49998   46  Female  Suburban           116.2        160.6  27.7   \n",
      "49998  49999   24  Female     Rural           104.6        180.4  29.2   \n",
      "49999  50000   38    Male     Urban           122.9         89.2  21.8   \n",
      "\n",
      "       Heart_Rate Exercise_Level  Smoking  ... Income_Level  \\\n",
      "0              76           High    False  ...          Low   \n",
      "1              82       Moderate    False  ...          Low   \n",
      "2              71       Moderate    False  ...       Middle   \n",
      "3              74       Moderate     True  ...       Middle   \n",
      "4              67            Low    False  ...       Middle   \n",
      "...           ...            ...      ...  ...          ...   \n",
      "49995          71            Low     True  ...       Middle   \n",
      "49996          77       Moderate     True  ...       Middle   \n",
      "49997          63            Low     True  ...       Middle   \n",
      "49998          60       Moderate     True  ...          Low   \n",
      "49999          69       Moderate    False  ...          Low   \n",
      "\n",
      "       Physical_Activity  Education_Level  Marital_Status  Urban_Rural  \\\n",
      "0                    Low          Primary         Married        Rural   \n",
      "1               Moderate           Higher         Married        Urban   \n",
      "2                   High          Primary         Married        Urban   \n",
      "3               Moderate           Higher         Married        Urban   \n",
      "4                    Low           Higher         Widowed        Urban   \n",
      "...                  ...              ...             ...          ...   \n",
      "49995               High          Primary        Divorced        Urban   \n",
      "49996               High        Secondary          Single        Urban   \n",
      "49997                Low        Secondary          Single        Urban   \n",
      "49998           Moderate          Primary         Widowed        Urban   \n",
      "49999           Moderate           Higher          Single        Urban   \n",
      "\n",
      "       Medication Health_Awareness  Daily_Water_Intake Mental_Health Obesity  \n",
      "0           False                5                 2.3             5   False  \n",
      "1           False                1                 5.0             4   False  \n",
      "2           False                4                 2.4             8   False  \n",
      "3           False                2                 2.7             6    True  \n",
      "4           False                4                 3.5             4    True  \n",
      "...           ...              ...                 ...           ...     ...  \n",
      "49995        True                4                 4.9             1   False  \n",
      "49996       False                3                 4.4             4    True  \n",
      "49997       False                2                 2.4             7   False  \n",
      "49998       False                3                 3.1             5   False  \n",
      "49999       False                5                 2.0             2    True  \n",
      "\n",
      "[50000 rows x 29 columns]\n",
      "0        False\n",
      "1        False\n",
      "2        False\n",
      "3        False\n",
      "4        False\n",
      "         ...  \n",
      "49995    False\n",
      "49996    False\n",
      "49997    False\n",
      "49998     True\n",
      "49999    False\n",
      "Name: Heart_Attack, Length: 50000, dtype: bool\n"
     ]
    }
   ],
   "source": [
    "X = Heart_Data.loc[:, Heart_Data.columns != 'Heart_Attack']\n",
    "print(X)\n",
    "Y = Heart_Data[\"Heart_Attack\"]\n",
    "print(Y)"
   ]
  },
  {
   "cell_type": "code",
   "execution_count": 2,
   "id": "69bfbd2f-4bdb-4806-a2d8-770e8c6e501c",
   "metadata": {},
   "outputs": [
    {
     "ename": "NameError",
     "evalue": "name 'KNeighborsRegressor' is not defined",
     "output_type": "error",
     "traceback": [
      "\u001b[1;31m---------------------------------------------------------------------------\u001b[0m",
      "\u001b[1;31mNameError\u001b[0m                                 Traceback (most recent call last)",
      "Cell \u001b[1;32mIn[2], line 1\u001b[0m\n\u001b[1;32m----> 1\u001b[0m kn \u001b[38;5;241m=\u001b[39m KNeighborsRegressor()\n\u001b[0;32m      2\u001b[0m kn\u001b[38;5;241m.\u001b[39mfit(X,Y)\n\u001b[0;32m      3\u001b[0m pre_1\u001b[38;5;241m=\u001b[39mkn\u001b[38;5;241m.\u001b[39mpredict(X)\n",
      "\u001b[1;31mNameError\u001b[0m: name 'KNeighborsRegressor' is not defined"
     ]
    }
   ],
   "source": [
    "kn = KNeighborsRegressor()\n",
    "kn.fit(X,Y)\n",
    "pre_1=kn.predict(X)\n",
    "print(pre_1)"
   ]
  },
  {
   "cell_type": "code",
   "execution_count": 3,
   "id": "30f58b38-8074-4edd-9c1b-0cdff5bc11e4",
   "metadata": {},
   "outputs": [
    {
     "ename": "NameError",
     "evalue": "name 'LinearRegression' is not defined",
     "output_type": "error",
     "traceback": [
      "\u001b[1;31m---------------------------------------------------------------------------\u001b[0m",
      "\u001b[1;31mNameError\u001b[0m                                 Traceback (most recent call last)",
      "Cell \u001b[1;32mIn[3], line 1\u001b[0m\n\u001b[1;32m----> 1\u001b[0m lr\u001b[38;5;241m=\u001b[39mLinearRegression()\n\u001b[0;32m      2\u001b[0m lr\u001b[38;5;241m.\u001b[39mfit(X,Y)\n\u001b[0;32m      3\u001b[0m pre_2 \u001b[38;5;241m=\u001b[39m lr\u001b[38;5;241m.\u001b[39mpredict(X)\n",
      "\u001b[1;31mNameError\u001b[0m: name 'LinearRegression' is not defined"
     ]
    }
   ],
   "source": [
    "lr=LinearRegression()\n",
    "lr.fit(X,Y)\n",
    "pre_2 = lr.predict(X)\n",
    "print(pre_2)"
   ]
  }
 ],
 "metadata": {
  "kernelspec": {
   "display_name": "base",
   "language": "python",
   "name": "python3"
  },
  "language_info": {
   "codemirror_mode": {
    "name": "ipython",
    "version": 3
   },
   "file_extension": ".py",
   "mimetype": "text/x-python",
   "name": "python",
   "nbconvert_exporter": "python",
   "pygments_lexer": "ipython3",
   "version": "3.12.7"
  }
 },
 "nbformat": 4,
 "nbformat_minor": 5
}
